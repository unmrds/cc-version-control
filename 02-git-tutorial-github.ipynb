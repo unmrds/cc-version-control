{
 "cells": [
  {
   "cell_type": "markdown",
   "metadata": {},
   "source": [
    "# Git and GitHub\n",
    "-----------------------------------------------------------\n",
    "\n",
    "Because of its popularity, Git and GitHub may be confused as two aspects of a single application or platform. However, they are distinct.\n",
    "\n",
    "**Git** is a free and open source DVCS application that is supported by all major platforms.\n",
    "\n",
    "[https://git-scm.com/](https://git-scm.com/)\n",
    "\n",
    "**GitHub** is a widely adopted web application which overlays some useful project management features on top of an underlying Git engine. These features include wikis, issue management, integration with third party APIs, etc. \n",
    "\n",
    "[https://github.com/](https://github.com/)\n",
    "\n",
    "Other, similar platforms such as GitLab exit. \n",
    "\n",
    "## Install Git\n",
    "-----------------------------------------------------------\n",
    "\n",
    "Download and install the appropriate version of Git from [https://git-scm.com/downloads](https://git-scm.com/downloads).\n",
    "\n",
    "Some configuration is necessary - we will define the necessary attributes below when we initialize a repository.\n",
    "\n",
    "\n",
    "## Create a GitHub Account and Demo Repository\n",
    "-----------------------------------------------------------\n",
    "\n",
    "We will be using GitHub for our tutorial today, so if you do not already have a GitHub account please follow the instructions below to create one. Note that a basic account is free, but the free account does not include private repositories. That is, any repository created using a free account is automatically publicly accessible.\n",
    "\n",
    "1. Provide a username and password where prompted.\n",
    "    ![./images/github-1.png](./images/github-1.png)\n",
    "2. Select a plan - as noted the basic plan is free. For our purposes today we will not set up an organization at this time.\n",
    "    ![./images/github-2.png](./images/github-2.png)\n",
    "3. For today's purposes we will skip the next step.\n",
    "    ![./images/github-3.png](./images/github-3.png)\n",
    "4. A verification email will be sent to the email address provided in step 1. Please check your email and click the link to provide verfication.\n",
    "5. The _Hello World Guide_ is very handy. We will not look at it today, but for future reference it can be accessed at [https://guides.github.com/activities/hello-world/](https://guides.github.com/activities/hello-world/).\n",
    "6. Click the button to _Start a project_.\n",
    "    ![./images/github-4.png](./images/github-4.png)\n",
    "7. Fill out the form to create a new repository. As noted, all repositories for free accounts are public. Additionally:\n",
    "    * Check the box to initilialize the repository with a README file.\n",
    "    * Add a _.gitignore_ file and select a file type from the list provided (for demo purposes you can select anything).\n",
    "    * Select a license from the dropdown menu provided.\n",
    "    * Click the button to _Create repository_ when done.\n",
    "    ![./images/github-5.png](./images/github-5.png)\n",
    "8. Note that the new repository comes with a _.gitignore_, _LICENSE_, and _README.md_ file. The contents of the README are output to the main repository page. Note the README file type is Markdown ('.md'), which is popular format for publishing structured text online.\n",
    "\n",
    "Recalling the discussion about what a distributed VCS is, it's important to note that the GitHub instance of the repository is what we will refer to from here on as the _origin_. We will not be editing files directly on origin. Instead, we will clone a copy of the repository to a local workstation or laptop. This will be referred to as the local copy, and all edits or changes will be made locally.\n",
    "\n",
    "Note also that the repository is initiated with a _master_ branch. Don't confuse the master branch with the origin repository - it's easy to do at first but the distinction is important.\n",
    "\n",
    "## Make a Local Clone of the Repository\n",
    "-----------------------------------------------------------\n",
    "\n",
    "Interactions with remote repositories often require authentication via HTTPS or SSH protocols. Secure shell (SSH) is preferred but requires creating and registering keys. This process is well documented at [https://git-scm.com/book/en/v2/Git-on-the-Server-Generating-Your-SSH-Public-Key](https://git-scm.com/book/en/v2/Git-on-the-Server-Generating-Your-SSH-Public-Key), but for today we will use HTTPS authentication. This allows us to clone the repository and push commits using our GitHub usernames and passwords. \n",
    "\n"
   ]
  },
  {
   "cell_type": "code",
   "execution_count": null,
   "metadata": {
    "collapsed": true
   },
   "outputs": [],
   "source": []
  }
 ],
 "metadata": {
  "kernelspec": {
   "display_name": "Python 3",
   "language": "python",
   "name": "python3"
  },
  "language_info": {
   "codemirror_mode": {
    "name": "ipython",
    "version": 3
   },
   "file_extension": ".py",
   "mimetype": "text/x-python",
   "name": "python",
   "nbconvert_exporter": "python",
   "pygments_lexer": "ipython3",
   "version": "3.6.1"
  }
 },
 "nbformat": 4,
 "nbformat_minor": 2
}
