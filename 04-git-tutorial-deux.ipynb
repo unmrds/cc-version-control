{
 "cells": [
  {
   "cell_type": "markdown",
   "metadata": {},
   "source": [
    "# LoboGit\n",
    "---------------------------------------------------------\n",
    "\n",
    "In our previous Git workshop, we used GitHub to host repositories. This time, we will work with LoboGit, a UNM Libraries branded instance of the GitLab platform.\n",
    "\n",
    "More info about GitLab is available from the website: [https://about.gitlab.com/](https://about.gitlab.com/)\n",
    "\n",
    "LoboGit can be accessed at [https://lobogit.unm.edu/](https://lobogit.unm.edu/). Log in using your standard UNM NetId and password.\n",
    "\n",
    "#### Interlude: Git installation and configuration refresh\n",
    "\n",
    "...elevator music sweetly plays...\n",
    "\n",
    "## Creating Repositories in LoboGit\n",
    "\n",
    "Once signed in, create a new repository using the _New Project_ button.\n",
    "\n",
    "![Lobogit 1](./images/lobogit-1.png)\n",
    "\n",
    "Projects have a namespace and a name. The default namespace is your username, in this case NetID. If you are a member of any groups in LoboGit, you may also have the option to use group names as the namespace. Doing so would automatically add group members to the project.\n",
    "\n",
    "The project name can be almost any text. Avoid spaces and special characters.\n",
    "\n",
    "The visibility level can be set to any of the available options. One benefit of using LoboGit over GitHub is that private repositories are available for free to all users.\n",
    "\n",
    "We recommend always initializing a repository with a README.\n",
    "\n",
    "When ready, hit the _Create project_ button.\n",
    "\n",
    "![Lobogit 2](./images/lobogit-2.png)\n",
    "\n",
    "From here on, steps for cloning the repository to your local environment and the basic workflow are the same as were covered in the previous workshop. As before, we will skip the generation of SSH keys and authenticate using HTTPS.\n",
    "\n",
    "#### Interlude: Cloning and basic workflow\n",
    "\n",
    "...elevator music sweetly plays...\n",
    "\n",
    "## Git Ignore\n",
    "\n",
    "By default, Git tracks changes to all files in a repository. From the root repository directory on down, every folder and file is watched for changes. There are many use cases where this _may_ not be desirable or efficient:\n",
    "\n",
    "* Large files\n",
    "* Multimedia, binary file types, etc. \n",
    "* Ancillary files and data\n",
    "* Logfiles\n",
    "\n",
    "Files, file types, and directories (with any subdirectories) can be excluded from tracking by adding them to the '.gitignore' file. Info about the ignore file is available in the **Pro Git** book: [https://git-scm.com/book/en/v2/Git-Basics-Recording-Changes-to-the-Repository](https://git-scm.com/book/en/v2/Git-Basics-Recording-Changes-to-the-Repository)\n",
    "\n",
    "Note that '.gitignore' is a hidden file.\n",
    "\n",
    "Unlike GitHub, GitLab/LoboGit does not presently offer an option to create the '.gitignore' file when the repository is created. We can create one easily enough.\n",
    "\n",
    "## Branching\n",
    "\n",
    "## Merging\n",
    "\n",
    "## Resolving conflicts\n",
    "\n",
    "## Rolling back commits"
   ]
  },
  {
   "cell_type": "code",
   "execution_count": null,
   "metadata": {
    "collapsed": true
   },
   "outputs": [],
   "source": []
  }
 ],
 "metadata": {
  "kernelspec": {
   "display_name": "Python 3",
   "language": "python",
   "name": "python3"
  },
  "language_info": {
   "codemirror_mode": {
    "name": "ipython",
    "version": 3
   },
   "file_extension": ".py",
   "mimetype": "text/x-python",
   "name": "python",
   "nbconvert_exporter": "python",
   "pygments_lexer": "ipython3",
   "version": "3.6.1"
  }
 },
 "nbformat": 4,
 "nbformat_minor": 2
}
