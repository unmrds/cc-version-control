{
 "cells": [
  {
   "cell_type": "markdown",
   "id": "b9a6a393",
   "metadata": {},
   "source": [
    "# LoboGit Demonstration\n",
    "\n",
    "## LoboGit Demo\n",
    "    \n",
    "1. Open LoboGit: [https://lobogit.unm.edu/users/sign_in](https://lobogit.unm.edu/users/sign_in)\n",
    "\n",
    "1. Demonstrate LoboGit interface options: Projects, Groups, Issues.\n",
    "    \n",
    "1. Create new Project (repository) in LoboGit\n",
    "\n",
    "1. Add license to project. \n",
    "\n",
    "1. Demonstrate LoboGit Project options: Project Information, Repository, Issues, Wiki, Settings\n"
   ]
  },
  {
   "cell_type": "markdown",
   "id": "dc4381dd",
   "metadata": {},
   "source": [
    "## Use of GitHub Desktop Client with LoboGit (or other GitLab-based hosts)\n",
    "\n",
    "1. In LoboGit open the preferences (under user menu \"Preferences\") and then select \"Access Tokens\". Create and copy your access token. \n",
    "\n",
    "1. Copy/save the HTTPS clone link for your repository that you want to interact with in GitHub Desktop\n",
    "\n",
    "1. Open the GitHub Desktop client\n",
    "\n",
    "1. Choose \"Clone Repository\" from either the File Menu, or the \"Add\" option under the Current repository in the interface window\n",
    "\n",
    "1. Paste in the copied HTTPS url into the \"Repository URL\" field under \"URL\" in the dialog. Set the local location where you want the repository to be stored. Click the \"Clone\" button. **This will produce an authentication error message.**\n",
    "\n",
    "1. Enter your username (netid@unm.edu) and the saved access token in the password field. Submit. \n",
    "\n",
    "- Based on: [https://itnext.io/how-to-use-github-desktop-with-gitlab-cd4d2de3d104](https://itnext.io/how-to-use-github-desktop-with-gitlab-cd4d2de3d104)\n"
   ]
  },
  {
   "cell_type": "markdown",
   "id": "a0a27965",
   "metadata": {},
   "source": [
    "## Reiterate Desktop Client Connection/workflow with LoboGit\n",
    "\n",
    "1. Add new file to the project through the web client\n",
    "\n",
    "1. Pull the updated content from LoboGit into the desktop client\n",
    "\n",
    "1. Create a new file on the local system within the Project folder\n",
    "\n",
    "1. Add/Commit new file\n",
    "\n",
    "1. Push to LoboGit\n",
    "\n",
    "1. View in LoboGit\n",
    "\n",
    "**Wash, rinse, repeat**\n",
    "\n",
    "\n"
   ]
  }
 ],
 "metadata": {
  "kernelspec": {
   "display_name": "Python 3 (ipykernel)",
   "language": "python",
   "name": "python3"
  },
  "language_info": {
   "codemirror_mode": {
    "name": "ipython",
    "version": 3
   },
   "file_extension": ".py",
   "mimetype": "text/x-python",
   "name": "python",
   "nbconvert_exporter": "python",
   "pygments_lexer": "ipython3",
   "version": "3.8.13"
  }
 },
 "nbformat": 4,
 "nbformat_minor": 5
}
