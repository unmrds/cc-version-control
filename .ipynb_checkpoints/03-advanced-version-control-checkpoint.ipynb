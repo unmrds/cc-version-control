{
 "cells": [
  {
   "cell_type": "markdown",
   "metadata": {},
   "source": [
    "# Advanced Version Control\n",
    "-------------------------------------------------------------\n",
    "\n",
    "Welcome and welcome back! Please note the notebooks for today's workshop have been added to the same repository as we used to present the introduction to Git and DVCS in December, 2017. Please feel free to refer to those materials for a refresher or background info. We may repeat some steps to get set up today, but generally we won't be going through those notebooks again. However, we are happy to answer any questions!\n",
    "\n",
    "The concepts covered in the previous workshop focused on a basic workflow:\n",
    "\n",
    "__Pull - - > Edit/Create/Delete -> Add -> Commit - - > Push__\n",
    "\n",
    "![The basic workflow upon which all others are built ...](./images/basic_cycle.png)\n",
    "\n",
    "Though in reality it's better to think about it as a sequence of changes, each of which is recorded in the history of the repository\n",
    "\n",
    "![A sequential process ...](./images/basic_sequence.png)\n"
   ]
  },
  {
   "cell_type": "markdown",
   "metadata": {
    "collapsed": true
   },
   "source": [
    "In practice, and especially among collaborators, the basic workflow is often insufficient for complex tasks. Today we will cover some additional concepts and commands of use in real life workflows:\n",
    "\n",
    "* __Ignoring files and directories__ - defining parts of the repository that should not be maintained in the history of the repository content. For example, large data files that are stored elsewhere, products of processes that generate documents or compiled applications based on the content of the repository. \n",
    "* __Branching__ - making a copy of the current repository state to work on (within the repository) in parallel with the ongoing changes that might take place in the source branch.\n",
    "* __Merging__ - integrating the changes made in a separate branch back into the source branch (typically after testing)\n",
    "* __Conflict resolution__ - the process of resolving identified conflicts between changes made in parallel branches during the process of merging.\n",
    "* __Rolling back commits__ - bring the repository back to a previous commit state - preferably while maintaining the history of the repository throughout the entire process\n",
    "\n",
    "In the intro session, we presented a handful of DVCS use cases. Before we get into the hands-on part of today's workshop, it may be interesting to look at some more of these use cases in practice and at scale."
   ]
  },
  {
   "cell_type": "markdown",
   "metadata": {},
   "source": [
    "## Git in the wild\n",
    "---------------------------------------------------------------\n",
    "\n",
    "### The Linux kernel\n",
    "\n",
    "This is something of a meta-example, since Linus Torvalds initially developed Git as a VCS for the Linux kernel. Some interesting history is available on the [Git Wikipedia page](https://en.wikipedia.org/wiki/Git). \n",
    "\n",
    "The kernel is complex:\n",
    "\n",
    "![A map of the Linux kernel](./images/Linux_kernel_map.png)\n",
    "\n",
    "Image by Conan at English Wikipedia, CC BY 3.0, https://commons.wikimedia.org/w/index.php?curid=6092674\n",
    "\n",
    "A look at [Kernel.org](https://git.kernel.org/) demonstrates a lot of the benefits of DVCS:\n",
    "\n",
    "* Many, distributed contributors\n",
    "* Annotation, transparency, audit trails\n",
    "* Change tracking\n",
    "\n",
    "\n"
   ]
  },
  {
   "cell_type": "code",
   "execution_count": null,
   "metadata": {},
   "outputs": [],
   "source": []
  }
 ],
 "metadata": {
  "kernelspec": {
   "display_name": "Python 3",
   "language": "python",
   "name": "python3"
  },
  "language_info": {
   "codemirror_mode": {
    "name": "ipython",
    "version": 3
   },
   "file_extension": ".py",
   "mimetype": "text/x-python",
   "name": "python",
   "nbconvert_exporter": "python",
   "pygments_lexer": "ipython3",
   "version": "3.6.5"
  }
 },
 "nbformat": 4,
 "nbformat_minor": 2
}
