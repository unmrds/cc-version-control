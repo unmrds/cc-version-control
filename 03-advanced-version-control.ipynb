{
 "cells": [
  {
   "cell_type": "markdown",
   "metadata": {},
   "source": [
    "# Advanced Version Control\n",
    "-------------------------------------------------------------\n",
    "\n",
    "Welcome and welcome back! Please note the notebooks for today's workshop have been added to the same repository as we used to present the introduction to Git and DVCS in December, 2017. Please feel free to refer to those materials for a refresher or background info. We may repeat some steps to get set up today, but generally we won't be going through those notebooks again. However, we are happy to answer any questions!\n",
    "\n",
    "The concepts covered in the previous workshop focused on a basic workflow:\n",
    "\n",
    "__Edit -> Add -> Commit -> Push__\n",
    "\n",
    "In practice, and especially among collaborators, the basic workflow is often insufficient for complex tasks. Today we will cover some additional concepts and commands of use in real life workflows:\n",
    "\n",
    "* __Ignoring files and directories__\n",
    "* __Branching__\n",
    "* __Merging__\n",
    "* __Conflict resolution__\n",
    "* __Rolling back commits__\n",
    "\n",
    "In the intro session, we presented a handful of DVCS use cases. Before we get into the hands-on part of today's workshop, it may be interesting to look at some more of these use cases in practice and at scale.\n",
    "\n",
    "## Git in the wild\n",
    "---------------------------------------------------------------\n",
    "\n",
    "### The Linux kernel\n",
    "\n",
    "This is something of a meta-example, since Linus Torvalds initially developed Git as a VCS for the Linux kernel. Some interesting history is available on the [Git Wikipedia page](https://en.wikipedia.org/wiki/Git). \n",
    "\n",
    "The kernel is complex:\n",
    "\n",
    "![A map of the Linux kernel](./images/Linux_kernel_map.png)\n",
    "\n",
    "Image by Conan at English Wikipedia, CC BY 3.0, https://commons.wikimedia.org/w/index.php?curid=6092674\n",
    "\n",
    "A look at [Kernel.org](https://git.kernel.org/) demonstrates a lot of the benefits of DVCS:\n",
    "\n",
    "* Many, distributed contributors\n",
    "* Annotation, transparency, audit trails\n",
    "* Change tracking\n"
   ]
  },
  {
   "cell_type": "code",
   "execution_count": null,
   "metadata": {
    "collapsed": true
   },
   "outputs": [],
   "source": []
  }
 ],
 "metadata": {
  "kernelspec": {
   "display_name": "Python 3",
   "language": "python",
   "name": "python3"
  },
  "language_info": {
   "codemirror_mode": {
    "name": "ipython",
    "version": 3
   },
   "file_extension": ".py",
   "mimetype": "text/x-python",
   "name": "python",
   "nbconvert_exporter": "python",
   "pygments_lexer": "ipython3",
   "version": "3.6.1"
  }
 },
 "nbformat": 4,
 "nbformat_minor": 2
}
