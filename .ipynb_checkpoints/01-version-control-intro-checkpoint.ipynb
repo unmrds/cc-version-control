{
 "cells": [
  {
   "cell_type": "markdown",
   "metadata": {},
   "source": [
    "# Introduction to Version Control\n",
    "----------------------------------------------------------------\n",
    "\n",
    "## Background and Key Concepts\n",
    "----------------------------------------------------------------\n",
    "\n",
    "Version control, also known as revision control, is a method for tracking changes to files and folders within a source code tree, project, or any complex set of files or documents. Informally, many of us implement version control concepts and strategies into our typical workflows via:\n",
    "\n",
    "* file and folder naming conventions\n",
    "* (documented and consistent) backup procedures\n",
    "* application or platform specific change tracking features.\n",
    "\n",
    "Each strategy or method has its pros and cons. Often the disadvantages of any given approach become apparent as we try to scale it out to larger projects with more collaborators. An advantage to software version control systems is that they are designed to facilitate the workflows of large, often distributed teams.\n",
    "\n",
    "\n",
    "\n",
    "\n",
    "## Use Cases\n",
    "----------------------------------------------------------------\n",
    "\n",
    "Above, we noted that version control is useful for tracking changes to 'complex' sets of files or documents. That is true, but there are many cases when version control may be useful for smaller scale, individual projects or even for drafting standlone documents (memos, posters, article drafts, etc.).\n",
    "\n",
    "The use cases below focus on common workflows and are not specific to any application or file type. That said, while it is certainly possible to use a VCS for managing changes to binary file types (MS Word and Excel, SQL databases, images, etc.), we recommend wherever possible using text formats - CSV, Markdown (.md) or LaTex, HTML/XML, etc. Especially with regard to content edits,the full benefit of using a VCS is generally only achieved with text files.\n",
    "\n",
    "### Document Authoring\n",
    "\n",
    "### Data Management\n",
    "\n",
    "### Web Content Management\n",
    "\n",
    "### Software and Code"
   ]
  },
  {
   "cell_type": "code",
   "execution_count": null,
   "metadata": {
    "collapsed": true
   },
   "outputs": [],
   "source": []
  }
 ],
 "metadata": {
  "kernelspec": {
   "display_name": "Python 3",
   "language": "python",
   "name": "python3"
  },
  "language_info": {
   "codemirror_mode": {
    "name": "ipython",
    "version": 3
   },
   "file_extension": ".py",
   "mimetype": "text/x-python",
   "name": "python",
   "nbconvert_exporter": "python",
   "pygments_lexer": "ipython3",
   "version": "3.6.1"
  }
 },
 "nbformat": 4,
 "nbformat_minor": 2
}
