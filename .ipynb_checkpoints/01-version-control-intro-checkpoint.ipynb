{
 "cells": [
  {
   "cell_type": "markdown",
   "metadata": {},
   "source": [
    "# Introduction to Version Control\n",
    "----------------------------------------------------------------\n",
    "\n",
    "## Background and Key Concepts\n",
    "----------------------------------------------------------------\n",
    "\n",
    "Version control, also known as revision control, is a method for tracking changes to files within a source code tree, project, or any complex set of files or documents. Informally, many of us implement version control concepts and strategies into our typical workflows via:\n",
    "\n",
    "* file and folder naming conventions\n",
    "* (documented and consistent) backup procedures\n",
    "* application or platform specific change tracking features.\n",
    "\n",
    "\n",
    "\n",
    "## Use Cases\n",
    "----------------------------------------------------------------\n"
   ]
  }
 ],
 "metadata": {
  "kernelspec": {
   "display_name": "Python 3",
   "language": "python",
   "name": "python3"
  },
  "language_info": {
   "codemirror_mode": {
    "name": "ipython",
    "version": 3
   },
   "file_extension": ".py",
   "mimetype": "text/x-python",
   "name": "python",
   "nbconvert_exporter": "python",
   "pygments_lexer": "ipython3",
   "version": "3.6.1"
  }
 },
 "nbformat": 4,
 "nbformat_minor": 2
}
