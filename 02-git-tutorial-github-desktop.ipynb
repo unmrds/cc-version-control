{
 "cells": [
  {
   "cell_type": "markdown",
   "id": "a8dfeeb9",
   "metadata": {},
   "source": [
    "# Git and GitHub\n",
    "-----------------------------------------------------------\n",
    "\n",
    "Because of GitHub's popularity, Git and GitHub may be confused as two aspects of a single application or platform. However, they are distinct.\n",
    "\n",
    "**Git** is a free and open source DVCS application that is supported by all major platforms.\n",
    "\n",
    "<https://git-scm.com/>\n",
    "\n",
    "**GitHub** is a widely adopted web application which overlays some useful project management features on top of an underlying Git engine. These features include wikis, issue management, integration with third party APIs, etc. \n",
    "\n",
    "<https://github.com/>\n",
    "\n",
    "Other, similar platforms such as GitLab exist. \n",
    "\n",
    "## Install Git\n",
    "-----------------------------------------------------------\n",
    "\n",
    "Download and install the appropriate version of Git from <https://git-scm.com/downloads>.\n",
    "\n",
    "Some configuration is necessary - we will define the necessary attributes below when we initialize a repository.\n",
    "\n",
    "## Install GitHub Desktop\n",
    "-----------------------------------------------------------\n",
    "\n",
    "Download and install the appropriate version of the GitHub Desktop application from \n",
    "<https://desktop.github.com/>.\n",
    "\n"
   ]
  },
  {
   "cell_type": "code",
   "execution_count": null,
   "id": "4a530d15",
   "metadata": {},
   "outputs": [],
   "source": []
  }
 ],
 "metadata": {
  "kernelspec": {
   "display_name": "Python 3 (ipykernel)",
   "language": "python",
   "name": "python3"
  },
  "language_info": {
   "codemirror_mode": {
    "name": "ipython",
    "version": 3
   },
   "file_extension": ".py",
   "mimetype": "text/x-python",
   "name": "python",
   "nbconvert_exporter": "python",
   "pygments_lexer": "ipython3",
   "version": "3.9.16"
  }
 },
 "nbformat": 4,
 "nbformat_minor": 5
}
